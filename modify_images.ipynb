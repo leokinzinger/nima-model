{
 "cells": [
  {
   "cell_type": "code",
   "execution_count": 5,
   "metadata": {},
   "outputs": [],
   "source": [
    "from PIL import Image\n",
    "import os\n",
    "\n",
    "def process_images(folder_path):\n",
    "    for filename in os.listdir(folder_path):\n",
    "        if filename.lower().endswith(('.png', '.jpg', '.jpeg', '.tiff', '.bmp', '.gif')):\n",
    "            file_path = os.path.join(folder_path, filename)\n",
    "\n",
    "            try:\n",
    "                # Open the image\n",
    "                with Image.open(file_path) as img:\n",
    "                    # Reduce dimensions by 50%\n",
    "                    new_size = (img.width // 2, img.height // 2)\n",
    "                    img = img.resize(new_size, Image.Resampling.LANCZOS)\n",
    "\n",
    "                    # Compress and save the image\n",
    "                    img.save(file_path, optimize=True, quality=85)\n",
    "\n",
    "            except IOError:\n",
    "                print(f\"Cannot process file: {filename}\")"
   ]
  },
  {
   "cell_type": "code",
   "execution_count": 9,
   "metadata": {},
   "outputs": [],
   "source": [
    "from PIL import Image\n",
    "import os\n",
    "import csv\n",
    "\n",
    "def process_images(source_folder, destination_folder):\n",
    "    # Create subfolders and paths\n",
    "    compressed_folder = os.path.join(destination_folder, 'compressed_images')\n",
    "    corrupted_folder = os.path.join(destination_folder, 'corrupted_images')\n",
    "    csv_file_path = os.path.join(destination_folder, 'overview.csv')\n",
    "\n",
    "    os.makedirs(compressed_folder, exist_ok=True)\n",
    "    os.makedirs(corrupted_folder, exist_ok=True)\n",
    "\n",
    "    # Create or open the CSV file\n",
    "    with open(csv_file_path, mode='w', newline='') as file:\n",
    "        writer = csv.writer(file)\n",
    "        writer.writerow(['name', 'is_corrupt'])\n",
    "\n",
    "        for filename in os.listdir(source_folder):\n",
    "            if filename.lower().endswith(('.png', '.jpg', '.jpeg', '.tiff', '.bmp', '.gif')):\n",
    "                source_file_path = os.path.join(source_folder, filename)\n",
    "\n",
    "                try:\n",
    "                    # Open and process the image\n",
    "                    with Image.open(source_file_path) as img:\n",
    "                        new_size = (img.width // 2, img.height // 2)\n",
    "                        img = img.resize(new_size, Image.Resampling.LANCZOS)\n",
    "\n",
    "                        # Save the processed image\n",
    "                        destination_file_path = os.path.join(compressed_folder, filename)\n",
    "                        img.save(destination_file_path, optimize=True, quality=85)\n",
    "                        writer.writerow([filename, 0])\n",
    "\n",
    "                except (IOError, Image.DecompressionBombError) as e:\n",
    "                    # Handle corrupted or potentially harmful images\n",
    "                    destination_file_path = os.path.join(corrupted_folder, filename)\n",
    "                    os.replace(source_file_path, destination_file_path)\n",
    "                    writer.writerow([filename, 1])"
   ]
  },
  {
   "cell_type": "code",
   "execution_count": 10,
   "metadata": {},
   "outputs": [],
   "source": [
    "process_images(\"src\\\\tests\\\\missing_images\",\"src\\\\tests\\\\missing_items\")"
   ]
  },
  {
   "cell_type": "code",
   "execution_count": 6,
   "metadata": {},
   "outputs": [],
   "source": [
    "process_images(\"src\\\\tests\\\\2024_01_08_missing_images\")"
   ]
  }
 ],
 "metadata": {
  "kernelspec": {
   "display_name": "nima",
   "language": "python",
   "name": "python3"
  },
  "language_info": {
   "codemirror_mode": {
    "name": "ipython",
    "version": 3
   },
   "file_extension": ".py",
   "mimetype": "text/x-python",
   "name": "python",
   "nbconvert_exporter": "python",
   "pygments_lexer": "ipython3",
   "version": "3.11.5"
  },
  "orig_nbformat": 4
 },
 "nbformat": 4,
 "nbformat_minor": 2
}
